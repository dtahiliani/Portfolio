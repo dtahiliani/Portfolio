{
 "cells": [
  {
   "cell_type": "code",
   "execution_count": 44,
   "metadata": {},
   "outputs": [],
   "source": [
    "import pandas as pd\n",
    "import matplotlib.pyplot as plt \n",
    "import numpy as np\n",
    "import datetime as dt"
   ]
  },
  {
   "cell_type": "code",
   "execution_count": 45,
   "metadata": {},
   "outputs": [
    {
     "data": {
      "text/html": [
       "<div>\n",
       "<style scoped>\n",
       "    .dataframe tbody tr th:only-of-type {\n",
       "        vertical-align: middle;\n",
       "    }\n",
       "\n",
       "    .dataframe tbody tr th {\n",
       "        vertical-align: top;\n",
       "    }\n",
       "\n",
       "    .dataframe thead th {\n",
       "        text-align: right;\n",
       "    }\n",
       "</style>\n",
       "<table border=\"1\" class=\"dataframe\">\n",
       "  <thead>\n",
       "    <tr style=\"text-align: right;\">\n",
       "      <th></th>\n",
       "      <th>email_send</th>\n",
       "      <th>start_time</th>\n",
       "      <th>total_contacts</th>\n",
       "      <th>check_time</th>\n",
       "      <th>count_dlivered</th>\n",
       "    </tr>\n",
       "  </thead>\n",
       "  <tbody>\n",
       "    <tr>\n",
       "      <th>0</th>\n",
       "      <td>plastic</td>\n",
       "      <td>2020-10-13 15:03:00</td>\n",
       "      <td>10049</td>\n",
       "      <td>2020-10-13 15:03:00</td>\n",
       "      <td>0</td>\n",
       "    </tr>\n",
       "    <tr>\n",
       "      <th>1</th>\n",
       "      <td>plastic</td>\n",
       "      <td>2020-10-13 15:03:00</td>\n",
       "      <td>10049</td>\n",
       "      <td>2020-10-14 16:36:00</td>\n",
       "      <td>9460</td>\n",
       "    </tr>\n",
       "    <tr>\n",
       "      <th>2</th>\n",
       "      <td>plastic</td>\n",
       "      <td>2020-10-13 15:03:00</td>\n",
       "      <td>10049</td>\n",
       "      <td>2020-10-14 21:10:00</td>\n",
       "      <td>9823</td>\n",
       "    </tr>\n",
       "    <tr>\n",
       "      <th>3</th>\n",
       "      <td>plastic</td>\n",
       "      <td>2020-10-13 15:03:00</td>\n",
       "      <td>10049</td>\n",
       "      <td>2020-10-14 22:51:00</td>\n",
       "      <td>9886</td>\n",
       "    </tr>\n",
       "    <tr>\n",
       "      <th>4</th>\n",
       "      <td>plastic</td>\n",
       "      <td>2020-10-13 15:03:00</td>\n",
       "      <td>10049</td>\n",
       "      <td>2020-10-15 09:13:00</td>\n",
       "      <td>9886</td>\n",
       "    </tr>\n",
       "  </tbody>\n",
       "</table>\n",
       "</div>"
      ],
      "text/plain": [
       "  email_send          start_time  total_contacts          check_time  \\\n",
       "0    plastic 2020-10-13 15:03:00           10049 2020-10-13 15:03:00   \n",
       "1    plastic 2020-10-13 15:03:00           10049 2020-10-14 16:36:00   \n",
       "2    plastic 2020-10-13 15:03:00           10049 2020-10-14 21:10:00   \n",
       "3    plastic 2020-10-13 15:03:00           10049 2020-10-14 22:51:00   \n",
       "4    plastic 2020-10-13 15:03:00           10049 2020-10-15 09:13:00   \n",
       "\n",
       "   count_dlivered  \n",
       "0               0  \n",
       "1            9460  \n",
       "2            9823  \n",
       "3            9886  \n",
       "4            9886  "
      ]
     },
     "execution_count": 45,
     "metadata": {},
     "output_type": "execute_result"
    }
   ],
   "source": [
    "emails = pd.read_excel('serverPerformance.xlsx')\n",
    "emails.head()"
   ]
  },
  {
   "cell_type": "code",
   "execution_count": 46,
   "metadata": {},
   "outputs": [
    {
     "name": "stdout",
     "output_type": "stream",
     "text": [
      "<class 'pandas.core.frame.DataFrame'>\n",
      "RangeIndex: 95 entries, 0 to 94\n",
      "Data columns (total 5 columns):\n",
      " #   Column          Non-Null Count  Dtype         \n",
      "---  ------          --------------  -----         \n",
      " 0   email_send      95 non-null     object        \n",
      " 1   start_time      95 non-null     datetime64[ns]\n",
      " 2   total_contacts  95 non-null     int64         \n",
      " 3   check_time      95 non-null     datetime64[ns]\n",
      " 4   count_dlivered  95 non-null     int64         \n",
      "dtypes: datetime64[ns](2), int64(2), object(1)\n",
      "memory usage: 3.8+ KB\n"
     ]
    }
   ],
   "source": [
    "emails.info()\n",
    "#emails.dtypes"
   ]
  },
  {
   "cell_type": "code",
   "execution_count": 47,
   "metadata": {},
   "outputs": [
    {
     "data": {
      "text/html": [
       "<div>\n",
       "<style scoped>\n",
       "    .dataframe tbody tr th:only-of-type {\n",
       "        vertical-align: middle;\n",
       "    }\n",
       "\n",
       "    .dataframe tbody tr th {\n",
       "        vertical-align: top;\n",
       "    }\n",
       "\n",
       "    .dataframe thead th {\n",
       "        text-align: right;\n",
       "    }\n",
       "</style>\n",
       "<table border=\"1\" class=\"dataframe\">\n",
       "  <thead>\n",
       "    <tr style=\"text-align: right;\">\n",
       "      <th></th>\n",
       "      <th>email_send</th>\n",
       "      <th>start_time</th>\n",
       "      <th>total_contacts</th>\n",
       "      <th>check_time</th>\n",
       "      <th>count_dlivered</th>\n",
       "      <th>elapsed_time</th>\n",
       "      <th>percent_delivered</th>\n",
       "    </tr>\n",
       "  </thead>\n",
       "  <tbody>\n",
       "    <tr>\n",
       "      <th>90</th>\n",
       "      <td>heightDonation</td>\n",
       "      <td>2020-10-21 15:35:00</td>\n",
       "      <td>42254</td>\n",
       "      <td>2020-10-21 16:07:00</td>\n",
       "      <td>36939</td>\n",
       "      <td>00:32:00</td>\n",
       "      <td>87.421309</td>\n",
       "    </tr>\n",
       "    <tr>\n",
       "      <th>91</th>\n",
       "      <td>heightDonation</td>\n",
       "      <td>2020-10-21 15:35:00</td>\n",
       "      <td>42254</td>\n",
       "      <td>2020-10-21 16:16:00</td>\n",
       "      <td>36966</td>\n",
       "      <td>00:41:00</td>\n",
       "      <td>87.485209</td>\n",
       "    </tr>\n",
       "    <tr>\n",
       "      <th>92</th>\n",
       "      <td>heightDonation</td>\n",
       "      <td>2020-10-21 15:35:00</td>\n",
       "      <td>42254</td>\n",
       "      <td>2020-10-21 16:45:00</td>\n",
       "      <td>38221</td>\n",
       "      <td>01:10:00</td>\n",
       "      <td>90.455342</td>\n",
       "    </tr>\n",
       "    <tr>\n",
       "      <th>93</th>\n",
       "      <td>heightDonation</td>\n",
       "      <td>2020-10-21 15:35:00</td>\n",
       "      <td>42254</td>\n",
       "      <td>2020-10-21 20:15:00</td>\n",
       "      <td>38386</td>\n",
       "      <td>04:40:00</td>\n",
       "      <td>90.845837</td>\n",
       "    </tr>\n",
       "    <tr>\n",
       "      <th>94</th>\n",
       "      <td>heightDonation</td>\n",
       "      <td>2020-10-21 15:35:00</td>\n",
       "      <td>42254</td>\n",
       "      <td>2020-10-22 00:27:00</td>\n",
       "      <td>39114</td>\n",
       "      <td>08:52:00</td>\n",
       "      <td>92.568751</td>\n",
       "    </tr>\n",
       "  </tbody>\n",
       "</table>\n",
       "</div>"
      ],
      "text/plain": [
       "        email_send          start_time  total_contacts          check_time  \\\n",
       "90  heightDonation 2020-10-21 15:35:00           42254 2020-10-21 16:07:00   \n",
       "91  heightDonation 2020-10-21 15:35:00           42254 2020-10-21 16:16:00   \n",
       "92  heightDonation 2020-10-21 15:35:00           42254 2020-10-21 16:45:00   \n",
       "93  heightDonation 2020-10-21 15:35:00           42254 2020-10-21 20:15:00   \n",
       "94  heightDonation 2020-10-21 15:35:00           42254 2020-10-22 00:27:00   \n",
       "\n",
       "    count_dlivered elapsed_time  percent_delivered  \n",
       "90           36939     00:32:00          87.421309  \n",
       "91           36966     00:41:00          87.485209  \n",
       "92           38221     01:10:00          90.455342  \n",
       "93           38386     04:40:00          90.845837  \n",
       "94           39114     08:52:00          92.568751  "
      ]
     },
     "execution_count": 47,
     "metadata": {},
     "output_type": "execute_result"
    }
   ],
   "source": [
    "emails[\"elapsed_time\"] = emails[\"check_time\"] - emails[\"start_time\"]\n",
    "emails[\"percent_delivered\"] = emails[\"count_dlivered\"]/emails[\"total_contacts\"]*100\n",
    "emails.tail()"
   ]
  },
  {
   "cell_type": "code",
   "execution_count": 48,
   "metadata": {},
   "outputs": [
    {
     "data": {
      "text/plain": [
       "array(['plastic', 'plasticB', 'plasticC', 'donationPlastic', 'voter101',\n",
       "       'followIG', 'heightDonation'], dtype=object)"
      ]
     },
     "execution_count": 48,
     "metadata": {},
     "output_type": "execute_result"
    }
   ],
   "source": [
    "email_names=emails['email_send'].unique()\n",
    "email_names"
   ]
  },
  {
   "cell_type": "code",
   "execution_count": 52,
   "metadata": {},
   "outputs": [],
   "source": [
    "def create_frame(list):\n",
    "    for name in list:\n",
    "        print(name)\n",
    "        \n",
    "        #create mask\n",
    "        new_mask_name = \"\".join(['mask', name])\n",
    "        print(new_mask_name)\n",
    "        new_mask_name = emails['email_send'] == name\n",
    "        print(new_mask_name)\n",
    "        return new_mask_name\n",
    "        \n",
    "        #create new masked dataframe\n",
    "        #name = emails[new_mask_name]\n",
    "        #print(name)\n",
    "        \n",
    "        #maskfollowIG = emails['email_send'] == \"followIG\"\n",
    "        \n",
    "        #create\n",
    "        #followIG = emails[maskfollowIG]\n",
    "        \n",
    "        #create dataframe"
   ]
  },
  {
   "cell_type": "code",
   "execution_count": 53,
   "metadata": {},
   "outputs": [
    {
     "name": "stdout",
     "output_type": "stream",
     "text": [
      "plastic\n",
      "maskplastic\n",
      "0      True\n",
      "1      True\n",
      "2      True\n",
      "3      True\n",
      "4      True\n",
      "      ...  \n",
      "90    False\n",
      "91    False\n",
      "92    False\n",
      "93    False\n",
      "94    False\n",
      "Name: email_send, Length: 95, dtype: bool\n"
     ]
    },
    {
     "data": {
      "text/plain": [
       "0      True\n",
       "1      True\n",
       "2      True\n",
       "3      True\n",
       "4      True\n",
       "      ...  \n",
       "90    False\n",
       "91    False\n",
       "92    False\n",
       "93    False\n",
       "94    False\n",
       "Name: email_send, Length: 95, dtype: bool"
      ]
     },
     "execution_count": 53,
     "metadata": {},
     "output_type": "execute_result"
    }
   ],
   "source": [
    "create_frame(email_names)"
   ]
  },
  {
   "cell_type": "code",
   "execution_count": 54,
   "metadata": {},
   "outputs": [
    {
     "ename": "NameError",
     "evalue": "name 'maskplastic' is not defined",
     "output_type": "error",
     "traceback": [
      "\u001b[0;31m---------------------------------------------------------------------------\u001b[0m",
      "\u001b[0;31mNameError\u001b[0m                                 Traceback (most recent call last)",
      "\u001b[0;32m<ipython-input-54-78f68e95ab8c>\u001b[0m in \u001b[0;36m<module>\u001b[0;34m\u001b[0m\n\u001b[0;32m----> 1\u001b[0;31m \u001b[0mmaskplastic\u001b[0m\u001b[0;34m\u001b[0m\u001b[0;34m\u001b[0m\u001b[0m\n\u001b[0m",
      "\u001b[0;31mNameError\u001b[0m: name 'maskplastic' is not defined"
     ]
    }
   ],
   "source": [
    "maskplastic"
   ]
  },
  {
   "cell_type": "code",
   "execution_count": 19,
   "metadata": {},
   "outputs": [],
   "source": [
    "maskPlastic = emails['email_send'] == \"plastic\"\n",
    "plasticA = emails[maskPlastic]\n",
    "plasticA.head()\n",
    "maskPlasticB = emails['email_send'] == \"plasticB\"\n",
    "plasticB = emails[maskPlasticB]\n",
    "plasticB.head()\n",
    "maskPlasticC = emails['email_send'] == \"plasticC\"\n",
    "plasticC = emails[maskPlasticC]\n",
    "plasticC.head()\n",
    "maskDonation = emails['email_send'] == \"donationPlastic\"\n",
    "plasticDonation = emails[maskDonation]\n",
    "voter101 = emails['email_send'] == \"voter101\"\n",
    "voter101 = emails[voter101]\n",
    "maskfollowIG = emails['email_send'] == \"followIG\"\n",
    "followIG = emails[maskfollowIG]\n",
    "maskheightDonation = emails['email_send'] == \"heightDonation\"\n",
    "heightDonation = emails[maskheightDonation]\n",
    "#followIG.head()"
   ]
  },
  {
   "cell_type": "code",
   "execution_count": 20,
   "metadata": {},
   "outputs": [
    {
     "data": {
      "text/plain": [
       "[<matplotlib.lines.Line2D at 0x7fb6bd82b290>]"
      ]
     },
     "execution_count": 20,
     "metadata": {},
     "output_type": "execute_result"
    },
    {
     "data": {
      "image/png": "[encoded data removed]",
      "text/plain": [
       "<Figure size 432x288 with 1 Axes>"
      ]
     },
     "metadata": {
      "needs_background": "light"
     },
     "output_type": "display_data"
    }
   ],
   "source": [
    "plt.plot(plasticA['elapsed_time'], plasticA['percent_delivered'], color='red')\n",
    "plt.plot(plasticB['elapsed_time'], plasticB['percent_delivered'], color = 'orange')\n",
    "plt.plot(plasticC['elapsed_time'], plasticC['percent_delivered'], color = 'yellow')\n",
    "plt.plot(plasticDonation['elapsed_time'], plasticDonation['percent_delivered'], color = 'green')\n",
    "plt.plot(voter101['elapsed_time'], voter101['percent_delivered'], color = 'blue')\n",
    "plt.plot(followIG['elapsed_time'], followIG['percent_delivered'], color = 'purple')\n",
    "plt.plot(heightDonation['elapsed_time'], heightDonation['percent_delivered'], color = 'pink')"
   ]
  },
  {
   "cell_type": "code",
   "execution_count": null,
   "metadata": {},
   "outputs": [],
   "source": []
  }
 ],
 "metadata": {
  "kernelspec": {
   "display_name": "Python 3",
   "language": "python",
   "name": "python3"
  },
  "language_info": {
   "codemirror_mode": {
    "name": "ipython",
    "version": 3
   },
   "file_extension": ".py",
   "mimetype": "text/x-python",
   "name": "python",
   "nbconvert_exporter": "python",
   "pygments_lexer": "ipython3",
   "version": "3.7.6"
  }
 },
 "nbformat": 4,
 "nbformat_minor": 4
}
